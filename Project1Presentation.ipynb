{
 "cells": [
  {
   "cell_type": "markdown",
   "metadata": {},
   "source": [
    "Project Goals: To understand the movements of eScooters throughout Minneapolis and determine if they are meeting the city proposal of meeting the needs of Underserved/Low income Populations\n",
    "\n",
    "Null Hypothesis: There is no significant difference between the number of scooters placed in Low income areas as compared to high income areas. "
   ]
  },
  {
   "cell_type": "code",
   "execution_count": null,
   "metadata": {},
   "outputs": [],
   "source": [
    "#Imports used by the notbook\n"
   ]
  },
  {
   "cell_type": "code",
   "execution_count": null,
   "metadata": {},
   "outputs": [],
   "source": [
    "#Pull data from Scooter Website and transform Start and End fields (ClosestCenterlineID) to contain ZipCodes\n",
    "    #Gold plating idea - use Scooter API to pull data rather than using csv download\n",
    "    #Gold plating idea - use Scooter CenterlineID API to associate Zipcodes to data\n",
    "    #Gold plating idea - use a fuction to contain these steps to be called in a .py file\n"
   ]
  },
  {
   "cell_type": "code",
   "execution_count": null,
   "metadata": {},
   "outputs": [],
   "source": [
    "#Pull Census data from government website by zip code to show median income or income related information\n",
    "    #Gold plating - utilize the Census data API to pull information from website\n",
    "    #Gold plating - pull other interesting information like age groups, etc from the API for analysis\n",
    "    #Gold plating - use a function to contain these steps to be called in a .py file \n",
    "    "
   ]
  },
  {
   "cell_type": "code",
   "execution_count": null,
   "metadata": {},
   "outputs": [],
   "source": [
    "#Merge dataframes genereated into a larger dataframe containing scooter information and income information\n",
    "    #Gold plating - Group the income ratings by type "
   ]
  },
  {
   "cell_type": "code",
   "execution_count": null,
   "metadata": {},
   "outputs": [],
   "source": [
    "#Generate plots of the data\n",
    "    #Visualizing Low income areas over time by scooter start Date\n",
    "    #Visualizing income heat map of Minneapolis by zipcode\n",
    "    #Visualizing Scooter Catchment data\n",
    "    #Visualizing Trends of scooter Low income start vs High income start over time\n",
    "    #Month by Month plotting of Scooter placement (comparing how scooter movement is changing over time) "
   ]
  },
  {
   "cell_type": "markdown",
   "metadata": {},
   "source": [
    "Project Conclusions: \n"
   ]
  }
 ],
 "metadata": {
  "kernelspec": {
   "display_name": "Python 3",
   "language": "python",
   "name": "python3"
  },
  "language_info": {
   "codemirror_mode": {
    "name": "ipython",
    "version": 3
   },
   "file_extension": ".py",
   "mimetype": "text/x-python",
   "name": "python",
   "nbconvert_exporter": "python",
   "pygments_lexer": "ipython3",
   "version": "3.6.9"
  }
 },
 "nbformat": 4,
 "nbformat_minor": 2
}
