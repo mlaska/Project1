{
 "cells": [
  {
   "cell_type": "code",
   "execution_count": 1,
   "metadata": {},
   "outputs": [],
   "source": [
    "# Dependencies\n",
    "import requests\n",
    "import json\n",
    "import pandas as pd\n"
   ]
  },
  {
   "cell_type": "code",
   "execution_count": null,
   "metadata": {},
   "outputs": [],
   "source": [
    "#months = ['May2019', 'Jun2019', 'Jul2019', 'Aug2019']\n",
    "start = []\n",
    "# Build URL using the Google Maps API\n",
    "#for x in range(len(months)):\n",
    "    base_url = f\"https://services.arcgis.com/afSMGVsC7QlRK1kZ/arcgis/rest/services/OpenDataScooterTrips_{months[x]}/FeatureServer/0/query?where=1%3D1&outFields=*&outSR=4326&f=json\"\n",
    "\n",
    "    # Run request\n",
    "    response = requests.get(base_url).json()\n",
    "    print(f'Processing scooter data request {x} for month {months[x]}')\n",
    "    start.append(response[\"features\"][0][\"attributes\"][\"StartCenterlineID\"])\n",
    "    "
   ]
  },
  {
   "cell_type": "code",
   "execution_count": 2,
   "metadata": {},
   "outputs": [
    {
     "name": "stderr",
     "output_type": "stream",
     "text": [
      "IOPub data rate exceeded.\n",
      "The notebook server will temporarily stop sending output\n",
      "to the client in order to avoid crashing it.\n",
      "To change this limit, set the config variable\n",
      "`--NotebookApp.iopub_data_rate_limit`.\n",
      "\n",
      "Current values:\n",
      "NotebookApp.iopub_data_rate_limit=1000000.0 (bytes/sec)\n",
      "NotebookApp.rate_limit_window=3.0 (secs)\n",
      "\n"
     ]
    }
   ],
   "source": [
    "'''dataset_url = \"https://opendata.arcgis.com/datasets/940fad9e84a144029b71a36538c3706f_0.geojson\"\n",
    "\n",
    "response = requests.get(dataset_url).json()\n",
    "\n",
    "print(response)'''"
   ]
  },
  {
   "cell_type": "code",
   "execution_count": null,
   "metadata": {},
   "outputs": [],
   "source": [
    "print(len(response[\"features\"]))"
   ]
  },
  {
   "cell_type": "code",
   "execution_count": null,
   "metadata": {},
   "outputs": [],
   "source": [
    "https://services.arcgis.com/afSMGVsC7QlRK1kZ/arcgis/rest/services/OpenDataScooterTrips_Jun2019/FeatureServer/0/query?where=1%3D1&outFields=*&outSR=4326&f=json\n",
    "    \n",
    "https://services.arcgis.com/afSMGVsC7QlRK1kZ/arcgis/rest/services/OpenDataScooterTrips_May2019/FeatureServer    \n",
    "    \n",
    "https://services.arcgis.com/afSMGVsC7QlRK1kZ/arcgis/rest/services/OpenDataScooterTrips_May2019/FeatureServer/0/query?where=1%3D1&outFields=*&outSR=4326&f=json"
   ]
  },
  {
   "cell_type": "code",
   "execution_count": null,
   "metadata": {},
   "outputs": [],
   "source": [
    "print(json.dumps(response, indent=4, sort_keys=True))"
   ]
  },
  {
   "cell_type": "code",
   "execution_count": null,
   "metadata": {},
   "outputs": [],
   "source": [
    "#scooter_df = pd.DataFrame(response)\n",
    "\n",
    "#scooter_df.head()\n",
    "\n",
    "#start = response[\"features\"][0][\"attributes\"][\"StartCenterlineID\"]\n",
    "\n",
    "print(start)"
   ]
  },
  {
   "cell_type": "code",
   "execution_count": null,
   "metadata": {},
   "outputs": [],
   "source": [
    "features = pd.DataFrame(response[\"features\"])"
   ]
  },
  {
   "cell_type": "code",
   "execution_count": null,
   "metadata": {},
   "outputs": [],
   "source": [
    "features.head()\n"
   ]
  },
  {
   "cell_type": "code",
   "execution_count": null,
   "metadata": {},
   "outputs": [],
   "source": [
    "print(json.dumps(address, indent = 4, sort_keys = True))"
   ]
  },
  {
   "cell_type": "code",
   "execution_count": null,
   "metadata": {},
   "outputs": [],
   "source": []
  }
 ],
 "metadata": {
  "kernelspec": {
   "display_name": "Python 3",
   "language": "python",
   "name": "python3"
  },
  "language_info": {
   "codemirror_mode": {
    "name": "ipython",
    "version": 3
   },
   "file_extension": ".py",
   "mimetype": "text/x-python",
   "name": "python",
   "nbconvert_exporter": "python",
   "pygments_lexer": "ipython3",
   "version": "3.6.9"
  }
 },
 "nbformat": 4,
 "nbformat_minor": 2
}
