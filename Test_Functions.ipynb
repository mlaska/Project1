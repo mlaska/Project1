{
 "cells": [
  {
   "cell_type": "code",
   "execution_count": 1,
   "metadata": {},
   "outputs": [],
   "source": [
    "#Dependencies\n",
    "import functions as f\n"
   ]
  },
  {
   "cell_type": "code",
   "execution_count": 2,
   "metadata": {},
   "outputs": [
    {
     "name": "stdout",
     "output_type": "stream",
     "text": [
      "API requested from US Census Bureau\n",
      "poverty_type.csv file created with a Poverty Type threshold set at 10.5%.\n",
      "\n",
      "  Zipcode  Poverty Rate Poverty Type\n",
      "0   55418     12.748436         High\n",
      "1   55411     31.316104     Downtown\n",
      "2   55405     14.252629     Downtown\n",
      "3   55401     14.219141     Downtown\n",
      "4   55408     15.597356         High\n"
     ]
    }
   ],
   "source": [
    "#Run API request\n",
    "    #Variable x represents Poverty Type threshold (set default to 10.5--MN average Poverty Rate in 2017)\n",
    "f.census_api(10.5)"
   ]
  },
  {
   "cell_type": "code",
   "execution_count": 3,
   "metadata": {},
   "outputs": [
    {
     "name": "stdout",
     "output_type": "stream",
     "text": [
      "data_complete.csv file created.\n",
      "\n",
      "External csv files from Open Data Minneapolis, \n",
      "      http://opendata.minneapolismn.gov/datasets/scooter-availability\n",
      "      http://opendata.minneapolismn.gov/datasets/mpls-centerline\n"
     ]
    }
   ],
   "source": [
    "#Run Read files and merge/clean dataframe\n",
    "f.read_files()"
   ]
  }
 ],
 "metadata": {
  "kernelspec": {
   "display_name": "Python 3",
   "language": "python",
   "name": "python3"
  },
  "language_info": {
   "codemirror_mode": {
    "name": "ipython",
    "version": 3
   },
   "file_extension": ".py",
   "mimetype": "text/x-python",
   "name": "python",
   "nbconvert_exporter": "python",
   "pygments_lexer": "ipython3",
   "version": "3.6.9"
  }
 },
 "nbformat": 4,
 "nbformat_minor": 2
}
