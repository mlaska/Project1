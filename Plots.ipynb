{
 "cells": [
  {
   "cell_type": "code",
   "execution_count": 1,
   "metadata": {},
   "outputs": [],
   "source": [
    "import matplotlib.pyplot as plt\n",
    "import pandas as pd\n",
    "import numpy as np"
   ]
  },
  {
   "cell_type": "code",
   "execution_count": 2,
   "metadata": {},
   "outputs": [],
   "source": [
    "data_complete = pd.read_csv(\"Scooter_df_HrsAndDays.csv\")"
   ]
  },
  {
   "cell_type": "code",
   "execution_count": 3,
   "metadata": {},
   "outputs": [
    {
     "name": "stdout",
     "output_type": "stream",
     "text": [
      "381426\n"
     ]
    },
    {
     "data": {
      "text/html": [
       "<div>\n",
       "<style scoped>\n",
       "    .dataframe tbody tr th:only-of-type {\n",
       "        vertical-align: middle;\n",
       "    }\n",
       "\n",
       "    .dataframe tbody tr th {\n",
       "        vertical-align: top;\n",
       "    }\n",
       "\n",
       "    .dataframe thead th {\n",
       "        text-align: right;\n",
       "    }\n",
       "</style>\n",
       "<table border=\"1\" class=\"dataframe\">\n",
       "  <thead>\n",
       "    <tr style=\"text-align: right;\">\n",
       "      <th></th>\n",
       "      <th>Unnamed: 0</th>\n",
       "      <th>PollTime</th>\n",
       "      <th>CompanyName</th>\n",
       "      <th>NumberAvailable</th>\n",
       "      <th>Zipcode</th>\n",
       "      <th>Poverty Rate</th>\n",
       "      <th>Poverty Type</th>\n",
       "      <th>Hour</th>\n",
       "      <th>Day</th>\n",
       "      <th>Month</th>\n",
       "    </tr>\n",
       "  </thead>\n",
       "  <tbody>\n",
       "    <tr>\n",
       "      <td>0</td>\n",
       "      <td>0</td>\n",
       "      <td>2019-05-18 11:00:00+00:00</td>\n",
       "      <td>Lime</td>\n",
       "      <td>1</td>\n",
       "      <td>55418.0</td>\n",
       "      <td>12.748436</td>\n",
       "      <td>High</td>\n",
       "      <td>6</td>\n",
       "      <td>18</td>\n",
       "      <td>5</td>\n",
       "    </tr>\n",
       "    <tr>\n",
       "      <td>1</td>\n",
       "      <td>1</td>\n",
       "      <td>2019-05-18 11:00:00+00:00</td>\n",
       "      <td>Lime</td>\n",
       "      <td>2</td>\n",
       "      <td>55418.0</td>\n",
       "      <td>12.748436</td>\n",
       "      <td>High</td>\n",
       "      <td>6</td>\n",
       "      <td>18</td>\n",
       "      <td>5</td>\n",
       "    </tr>\n",
       "    <tr>\n",
       "      <td>2</td>\n",
       "      <td>2</td>\n",
       "      <td>2019-05-18 11:00:00+00:00</td>\n",
       "      <td>Lime</td>\n",
       "      <td>1</td>\n",
       "      <td>55411.0</td>\n",
       "      <td>31.316104</td>\n",
       "      <td>Downtown</td>\n",
       "      <td>6</td>\n",
       "      <td>18</td>\n",
       "      <td>5</td>\n",
       "    </tr>\n",
       "    <tr>\n",
       "      <td>3</td>\n",
       "      <td>3</td>\n",
       "      <td>2019-05-18 11:00:00+00:00</td>\n",
       "      <td>Lime</td>\n",
       "      <td>3</td>\n",
       "      <td>55405.0</td>\n",
       "      <td>14.252629</td>\n",
       "      <td>Downtown</td>\n",
       "      <td>6</td>\n",
       "      <td>18</td>\n",
       "      <td>5</td>\n",
       "    </tr>\n",
       "    <tr>\n",
       "      <td>4</td>\n",
       "      <td>4</td>\n",
       "      <td>2019-05-18 11:00:00+00:00</td>\n",
       "      <td>Lime</td>\n",
       "      <td>1</td>\n",
       "      <td>55401.0</td>\n",
       "      <td>14.219141</td>\n",
       "      <td>Downtown</td>\n",
       "      <td>6</td>\n",
       "      <td>18</td>\n",
       "      <td>5</td>\n",
       "    </tr>\n",
       "  </tbody>\n",
       "</table>\n",
       "</div>"
      ],
      "text/plain": [
       "   Unnamed: 0                   PollTime CompanyName  NumberAvailable  \\\n",
       "0           0  2019-05-18 11:00:00+00:00        Lime                1   \n",
       "1           1  2019-05-18 11:00:00+00:00        Lime                2   \n",
       "2           2  2019-05-18 11:00:00+00:00        Lime                1   \n",
       "3           3  2019-05-18 11:00:00+00:00        Lime                3   \n",
       "4           4  2019-05-18 11:00:00+00:00        Lime                1   \n",
       "\n",
       "   Zipcode  Poverty Rate Poverty Type  Hour  Day  Month  \n",
       "0  55418.0     12.748436         High     6   18      5  \n",
       "1  55418.0     12.748436         High     6   18      5  \n",
       "2  55411.0     31.316104     Downtown     6   18      5  \n",
       "3  55405.0     14.252629     Downtown     6   18      5  \n",
       "4  55401.0     14.219141     Downtown     6   18      5  "
      ]
     },
     "execution_count": 3,
     "metadata": {},
     "output_type": "execute_result"
    }
   ],
   "source": [
    "print(len(data_complete))\n",
    "data_complete.head()"
   ]
  },
  {
   "cell_type": "code",
   "execution_count": null,
   "metadata": {},
   "outputs": [],
   "source": [
    "what_time = data_complete['Hour'] == 6\n",
    "\n",
    "data_morning = data_complete[what_time]\n",
    "\n",
    "p_type =  data_complete['Poverty Type'] == 'Low'\n",
    "    \n",
    "data_sub = data_morning[p_type]\n",
    "\n",
    "\n",
    "print(len(data_sub))\n",
    "\n",
    "data_sub.head()"
   ]
  },
  {
   "cell_type": "code",
   "execution_count": null,
   "metadata": {},
   "outputs": [],
   "source": [
    "#s.str.cat(['A', 'B', 'C', 'D'], sep=',')"
   ]
  },
  {
   "cell_type": "code",
   "execution_count": null,
   "metadata": {},
   "outputs": [],
   "source": [
    "data_sub_gr = data_sub.groupby([\"Month\", \"Day\"])\n",
    "data_morning_gr = data_morning.groupby([\"Month\", \"Day\"])\n",
    "\n",
    "totals = data_sub_gr['NumberAvailable'].sum()\n",
    "\n",
    "overall = data_morning_gr['NumberAvailable'].sum()\n",
    "\n",
    "percent = (totals.values / overall.values)*100\n",
    "\n",
    "#print(overall)\n",
    "print(percent)\n",
    "y_value = percent\n",
    "\n",
    "\n",
    "x_ = 0\n",
    "x_value = []\n",
    "\n",
    "for i in range(len(y_value)):\n",
    "    \n",
    "    x_value.append(x_)\n",
    "    x_ += 1\n",
    "    \n"
   ]
  },
  {
   "cell_type": "code",
   "execution_count": null,
   "metadata": {},
   "outputs": [],
   "source": [
    "data_morn_gr = data_morning.groupby([\"Month\", \"Day\"])\n",
    "\n",
    "\n",
    "data_morn_gr.count()"
   ]
  },
  {
   "cell_type": "code",
   "execution_count": null,
   "metadata": {},
   "outputs": [],
   "source": [
    "fig, ax = plt.subplots()\n",
    "\n",
    "fig.suptitle(\"Number of Scooters Available  at 6 AM in High Poverty Areas\", fontsize=16, fontweight=\"bold\")\n",
    "\n",
    "ax.set_xlim(0, len(totals))\n",
    "ax.set_ylim(0, y_value.max())\n",
    "ax.set_xlabel(\"Days (May through August)\")\n",
    "ax.set_ylabel(\"Number of Scooter\")\n",
    "\n",
    "ax.plot(x_value, y_value, linewidth=0.5)\n",
    "\n",
    "\n",
    "plt.show()"
   ]
  },
  {
   "cell_type": "code",
   "execution_count": null,
   "metadata": {},
   "outputs": [],
   "source": []
  }
 ],
 "metadata": {
  "kernelspec": {
   "display_name": "Python 3",
   "language": "python",
   "name": "python3"
  },
  "language_info": {
   "codemirror_mode": {
    "name": "ipython",
    "version": 3
   },
   "file_extension": ".py",
   "mimetype": "text/x-python",
   "name": "python",
   "nbconvert_exporter": "python",
   "pygments_lexer": "ipython3",
   "version": "3.6.9"
  }
 },
 "nbformat": 4,
 "nbformat_minor": 2
}
