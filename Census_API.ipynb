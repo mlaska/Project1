{
 "cells": [
  {
   "cell_type": "code",
   "execution_count": 1,
   "metadata": {},
   "outputs": [],
   "source": [
    "# Dependencies\n",
    "import numpy as np\n",
    "import pandas as pd\n",
    "import matplotlib.pyplot as plt\n",
    "import requests\n",
    "from census import Census\n",
    "\n",
    "# Census API Key\n",
    "from config import api_key\n",
    "c = Census(api_key, year=2017)"
   ]
  },
  {
   "cell_type": "code",
   "execution_count": 2,
   "metadata": {},
   "outputs": [],
   "source": [
    "# Run Census Search to retrieve data on all zip codes (2013 ACS5 Census)\n",
    "# See: https://github.com/CommerceDataService/census-wrapper for library documentation\n",
    "# See: https://gist.github.com/afhaque/60558290d6efd892351c4b64e5c01e9b for labels\n",
    "census_data = c.acs5.get((\"NAME\", \"B19013_001E\", \"B01003_001E\", \"B01002_001E\",\n",
    "                          \"B19301_001E\",\n",
    "                          \"B17001_002E\"), {'for': 'zip code tabulation area:*'})\n",
    "\n",
    "# Convert to DataFrame\n",
    "census_df = pd.DataFrame(census_data)\n",
    "'''\n",
    "\n",
    "census_data = c.acs5.get(('NAME', \"B19013_001E\", \"B01003_001E\", \"B01002_001E\",\n",
    "                          \"B19301_001E\",\n",
    "                          \"B17001_002E\"),\n",
    "          {'for': 'state:{}'.format(states.MD.fips)})'''\n",
    "\n",
    "# Column Reordering\n",
    "census_df = census_df.rename(columns={\"B01003_001E\": \"Population\",\n",
    "                                      \"B01002_001E\": \"Median Age\",\n",
    "                                      \"B19013_001E\": \"Household Income\",\n",
    "                                      \"B19301_001E\": \"Per Capita Income\",\n",
    "                                      \"B17001_002E\": \"Poverty Count\",\n",
    "                                      \"NAME\": \"Name\", \"zip code tabulation area\": \"Zipcode\"})\n",
    "\n"
   ]
  },
  {
   "cell_type": "code",
   "execution_count": 3,
   "metadata": {},
   "outputs": [],
   "source": [
    "# Add in Poverty Rate (Poverty Count / Population)\n",
    "census_df[\"Poverty Rate\"] = 100 * \\\n",
    "    census_df[\"Poverty Count\"].astype(\n",
    "        int) / census_df[\"Population\"].astype(int)\n",
    "\n",
    "# Final DataFrame\n",
    "census_df = census_df[[\"Zipcode\", \"Population\", \"Median Age\", \"Household Income\",\n",
    "                       \"Per Capita Income\", \"Poverty Count\", \"Poverty Rate\"]]\n",
    "\n",
    "census_df[\"Zipcode\"] = census_df[\"Zipcode\"].astype(str)\n"
   ]
  },
  {
   "cell_type": "code",
   "execution_count": 4,
   "metadata": {},
   "outputs": [],
   "source": [
    "zip_list = ['55418', '55411', '55405', '55401', '55408', '55414', '55403',\n",
    "       '55402', '55415', '55404', '55412', '55454', '55406', '55413',\n",
    "       '55409', '55416', '55419', '55407', '55455', '55422', '55417',\n",
    "       '55410', '55430', '55487', '55114', '55450', '55421', '55423',\n",
    "       '55429']   #Hard coded....can get from ID_to_Zipcode program"
   ]
  },
  {
   "cell_type": "code",
   "execution_count": 5,
   "metadata": {},
   "outputs": [],
   "source": [
    "zipcode_df = pd.DataFrame({\"Zipcode\": zip_list})\n",
    "\n",
    "\n",
    "census_mpls_df = pd.merge(zipcode_df, census_df, on = 'Zipcode', how=\"left\")"
   ]
  },
  {
   "cell_type": "code",
   "execution_count": 6,
   "metadata": {},
   "outputs": [
    {
     "name": "stderr",
     "output_type": "stream",
     "text": [
      "C:\\Users\\david\\Anaconda3\\envs\\PythonData\\lib\\site-packages\\ipykernel_launcher.py:15: FutureWarning: set_value is deprecated and will be removed in a future release. Please use .at[] or .iat[] accessors instead\n",
      "  from ipykernel import kernelapp as app\n",
      "C:\\Users\\david\\Anaconda3\\envs\\PythonData\\lib\\site-packages\\ipykernel_launcher.py:12: FutureWarning: set_value is deprecated and will be removed in a future release. Please use .at[] or .iat[] accessors instead\n",
      "  if sys.path[0] == '':\n",
      "C:\\Users\\david\\Anaconda3\\envs\\PythonData\\lib\\site-packages\\ipykernel_launcher.py:18: FutureWarning: set_value is deprecated and will be removed in a future release. Please use .at[] or .iat[] accessors instead\n"
     ]
    }
   ],
   "source": [
    "#List of downtown zipcodes\n",
    "downtown = ['55401', '55402', '55403', '55404', '55405', '55411', '55415', '55454', '55487']\n",
    "\n",
    "#Variable poverty rate criteria (currently set as MN's overall poverty rate)\n",
    "\n",
    "poverty_rate_criteria = 10.5\n",
    "\n",
    "#Build list to identify if zipcode's poverty rate is Low, High, or Downtown\n",
    "for index, zip in census_mpls_df.iterrows():\n",
    " \n",
    "    if zip[\"Zipcode\"] in downtown:\n",
    "        census_mpls_df.set_value(index, 'Poverty Type', 'Downtown')\n",
    "        \n",
    "    elif zip[\"Poverty Rate\"] > poverty_rate_criteria: \n",
    "        census_mpls_df.set_value(index, 'Poverty Type', 'High')\n",
    "        \n",
    "    else:\n",
    "        census_mpls_df.set_value(index, 'Poverty Type', 'Low')\n",
    "                     \n",
    "        \n",
    "        "
   ]
  },
  {
   "cell_type": "code",
   "execution_count": 7,
   "metadata": {},
   "outputs": [],
   "source": [
    "poverty_df = census_mpls_df[[\"Zipcode\",\"Poverty Rate\", \"Poverty Type\"]]"
   ]
  },
  {
   "cell_type": "code",
   "execution_count": 8,
   "metadata": {},
   "outputs": [
    {
     "data": {
      "text/html": [
       "<div>\n",
       "<style scoped>\n",
       "    .dataframe tbody tr th:only-of-type {\n",
       "        vertical-align: middle;\n",
       "    }\n",
       "\n",
       "    .dataframe tbody tr th {\n",
       "        vertical-align: top;\n",
       "    }\n",
       "\n",
       "    .dataframe thead th {\n",
       "        text-align: right;\n",
       "    }\n",
       "</style>\n",
       "<table border=\"1\" class=\"dataframe\">\n",
       "  <thead>\n",
       "    <tr style=\"text-align: right;\">\n",
       "      <th></th>\n",
       "      <th>Zipcode</th>\n",
       "      <th>Poverty Rate</th>\n",
       "      <th>Poverty Type</th>\n",
       "    </tr>\n",
       "  </thead>\n",
       "  <tbody>\n",
       "    <tr>\n",
       "      <td>0</td>\n",
       "      <td>55418</td>\n",
       "      <td>12.748436</td>\n",
       "      <td>High</td>\n",
       "    </tr>\n",
       "    <tr>\n",
       "      <td>1</td>\n",
       "      <td>55411</td>\n",
       "      <td>31.316104</td>\n",
       "      <td>Downtown</td>\n",
       "    </tr>\n",
       "    <tr>\n",
       "      <td>2</td>\n",
       "      <td>55405</td>\n",
       "      <td>14.252629</td>\n",
       "      <td>Downtown</td>\n",
       "    </tr>\n",
       "    <tr>\n",
       "      <td>3</td>\n",
       "      <td>55401</td>\n",
       "      <td>14.219141</td>\n",
       "      <td>Downtown</td>\n",
       "    </tr>\n",
       "    <tr>\n",
       "      <td>4</td>\n",
       "      <td>55408</td>\n",
       "      <td>15.597356</td>\n",
       "      <td>High</td>\n",
       "    </tr>\n",
       "  </tbody>\n",
       "</table>\n",
       "</div>"
      ],
      "text/plain": [
       "  Zipcode  Poverty Rate Poverty Type\n",
       "0   55418     12.748436         High\n",
       "1   55411     31.316104     Downtown\n",
       "2   55405     14.252629     Downtown\n",
       "3   55401     14.219141     Downtown\n",
       "4   55408     15.597356         High"
      ]
     },
     "execution_count": 8,
     "metadata": {},
     "output_type": "execute_result"
    }
   ],
   "source": [
    "poverty_df.head()\n",
    "\n"
   ]
  },
  {
   "cell_type": "code",
   "execution_count": 9,
   "metadata": {},
   "outputs": [],
   "source": [
    "#export to csv\n",
    "# Note to avoid any issues later, use encoding=\"utf-8\"\n",
    "poverty_df.to_csv(\"poverty_type.csv\", encoding=\"utf-8\", index=False)"
   ]
  },
  {
   "cell_type": "code",
   "execution_count": null,
   "metadata": {},
   "outputs": [],
   "source": []
  }
 ],
 "metadata": {
  "kernelspec": {
   "display_name": "Python 3",
   "language": "python",
   "name": "python3"
  },
  "language_info": {
   "codemirror_mode": {
    "name": "ipython",
    "version": 3
   },
   "file_extension": ".py",
   "mimetype": "text/x-python",
   "name": "python",
   "nbconvert_exporter": "python",
   "pygments_lexer": "ipython3",
   "version": "3.6.9"
  }
 },
 "nbformat": 4,
 "nbformat_minor": 2
}
