{
 "cells": [
  {
   "cell_type": "code",
   "execution_count": 1,
   "metadata": {},
   "outputs": [],
   "source": [
    "import matplotlib.pyplot as plt\n",
    "import pandas as pd\n",
    "import numpy as np"
   ]
  },
  {
   "cell_type": "code",
   "execution_count": 2,
   "metadata": {},
   "outputs": [],
   "source": [
    "data_complete = pd.read_csv(\"csvFiles/Main_Scooter(20percent).csv\")"
   ]
  },
  {
   "cell_type": "code",
   "execution_count": 3,
   "metadata": {},
   "outputs": [],
   "source": [
    "data_complete = data_complete.dropna()\n",
    "data_complete['Zipcode'] = data_complete['Zipcode'].astype(str)\n",
    "data_complete = data_complete.sort_values(by=['Month', 'Day'])\n",
    "data_complete.reset_index(inplace = True, drop = True)"
   ]
  },
  {
   "cell_type": "code",
   "execution_count": 4,
   "metadata": {},
   "outputs": [
    {
     "name": "stderr",
     "output_type": "stream",
     "text": [
      "C:\\Users\\david\\Anaconda3\\envs\\PythonData\\lib\\site-packages\\ipykernel_launcher.py:7: UserWarning: Boolean Series key will be reindexed to match DataFrame index.\n",
      "  import sys\n"
     ]
    }
   ],
   "source": [
    "what_time = data_complete['Hour'] == 6\n",
    "\n",
    "data_morning = data_complete[what_time]\n",
    "\n",
    "p_type =  data_complete['Poverty Type'] == 'High'\n",
    "    \n",
    "data_sub = data_morning[p_type]\n",
    "\n",
    "\n",
    "data_morning = data_morning.dropna()\n",
    "data_morning = data_morning.sort_values(by=['Month', 'Day'])\n",
    "data_morning.reset_index(inplace = True, drop = True)\n"
   ]
  },
  {
   "cell_type": "code",
   "execution_count": 5,
   "metadata": {},
   "outputs": [],
   "source": [
    "data_morning_bar = data_morning[['CompanyName', 'Poverty Type', 'NumberAvailable']]"
   ]
  },
  {
   "cell_type": "code",
   "execution_count": 6,
   "metadata": {
    "scrolled": true
   },
   "outputs": [
    {
     "data": {
      "image/png": "[encoded data removed]",
      "text/plain": [
       "<Figure size 432x288 with 1 Axes>"
      ]
     },
     "metadata": {
      "needs_background": "light"
     },
     "output_type": "display_data"
    }
   ],
   "source": [
    "\n",
    "\n",
    "df2 = data_morning_bar.groupby(['CompanyName', 'Poverty Type'])['NumberAvailable'].sum().unstack('Poverty Type').fillna(0)\n",
    "\n",
    "ax = df2[['High','Low', 'Downtown']].plot(kind='bar', stacked=True)\n",
    "# Change this line to plot percentages instead of absolute values\n",
    "#ax = (df2.div(df2.sum(1), axis=0)).plot(kind='bar', stacked = True, figsize=(10,4),width = 0.8,edgecolor=None)\n",
    "#plt.legend(labels=df2.columns,fontsize= 14)\n",
    "#plt.title(\"Percentage of Respondents' Interest in Data Science Areas\",fontsize= 16)\n",
    "\n",
    "plt.xticks(fontsize=14)\n",
    "\n",
    "\n",
    "\n",
    "\n",
    "\n",
    "plt.title(\"Distribution of Scooters at 6AM\", fontsize=14, fontweight=\"bold\")\n",
    "plt.xlabel(\"Company Name\")\n",
    "plt.savefig(\"Images/6AM_Bar(20percent).png\")\n",
    "plt.show()"
   ]
  },
  {
   "cell_type": "code",
   "execution_count": null,
   "metadata": {},
   "outputs": [],
   "source": []
  }
 ],
 "metadata": {
  "kernelspec": {
   "display_name": "Python 3",
   "language": "python",
   "name": "python3"
  },
  "language_info": {
   "codemirror_mode": {
    "name": "ipython",
    "version": 3
   },
   "file_extension": ".py",
   "mimetype": "text/x-python",
   "name": "python",
   "nbconvert_exporter": "python",
   "pygments_lexer": "ipython3",
   "version": "3.6.9"
  }
 },
 "nbformat": 4,
 "nbformat_minor": 2
}
