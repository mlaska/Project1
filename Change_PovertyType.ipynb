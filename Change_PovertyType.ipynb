{
 "cells": [
  {
   "cell_type": "code",
   "execution_count": 1,
   "metadata": {},
   "outputs": [],
   "source": [
    "import pandas as pd"
   ]
  },
  {
   "cell_type": "code",
   "execution_count": 2,
   "metadata": {},
   "outputs": [],
   "source": [
    "data_complete = pd.read_csv(\"csvFiles/Main_Scooter_df.csv\")"
   ]
  },
  {
   "cell_type": "code",
   "execution_count": 3,
   "metadata": {},
   "outputs": [],
   "source": [
    "key_df = data_complete[[\"Zipcode\", \"Poverty Rate\", \"Poverty Type\"]]\n"
   ]
  },
  {
   "cell_type": "code",
   "execution_count": 4,
   "metadata": {},
   "outputs": [],
   "source": [
    "key_df = key_df.drop_duplicates(subset=['Zipcode'])\n",
    "key_df.reset_index(inplace = True, drop = True)"
   ]
  },
  {
   "cell_type": "code",
   "execution_count": 5,
   "metadata": {},
   "outputs": [],
   "source": [
    "#Change number in IF statement to create new dataframe with new poverty rate theshold\n",
    "\n",
    "for i in range(len(key_df)):\n",
    "    \n",
    "    if key_df.loc[i, \"Poverty Type\"] != \"Downtown\":\n",
    "    \n",
    "        if key_df.loc[i, \"Poverty Rate\"] > 20:\n",
    "            \n",
    "            key_df.loc[i, \"Poverty Type\"] = \"High\"\n",
    "            \n",
    "        else:\n",
    "            key_df.loc[i, \"Poverty Type\"] = \"Low\"\n",
    "            \n"
   ]
  },
  {
   "cell_type": "code",
   "execution_count": 6,
   "metadata": {},
   "outputs": [],
   "source": [
    "data_complete = data_complete.drop(['Poverty Rate','Poverty Type'], axis=1)\n",
    "\n",
    "new_type = pd.merge(data_complete, key_df, on = 'Zipcode',  how=\"left\")\n",
    "\n"
   ]
  },
  {
   "cell_type": "code",
   "execution_count": 7,
   "metadata": {},
   "outputs": [],
   "source": [
    "#Save new df to CSV  ------Rename file to reflect different percent----------\n",
    "   # Note to avoid any issues later, use encoding=\"utf-8\"\n",
    "new_type.to_csv(\"csvFiles/Main_Scooter(20percent).csv\", encoding=\"utf-8\", index=False)"
   ]
  },
  {
   "cell_type": "code",
   "execution_count": null,
   "metadata": {},
   "outputs": [],
   "source": []
  }
 ],
 "metadata": {
  "kernelspec": {
   "display_name": "Python 3",
   "language": "python",
   "name": "python3"
  },
  "language_info": {
   "codemirror_mode": {
    "name": "ipython",
    "version": 3
   },
   "file_extension": ".py",
   "mimetype": "text/x-python",
   "name": "python",
   "nbconvert_exporter": "python",
   "pygments_lexer": "ipython3",
   "version": "3.6.9"
  }
 },
 "nbformat": 4,
 "nbformat_minor": 2
}
