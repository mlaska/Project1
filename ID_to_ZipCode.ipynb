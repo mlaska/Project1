{
 "cells": [
  {
   "cell_type": "markdown",
   "metadata": {},
   "source": [
    "Creating function to read Scooter_Availability csv and Centerline ID csv and create a new dataframe\n",
    "of Scooter Availability which includes locations' zip codes"
   ]
  },
  {
   "cell_type": "code",
   "execution_count": 1,
   "metadata": {},
   "outputs": [],
   "source": [
    "# Dependencies\n",
    "import pandas as pd"
   ]
  },
  {
   "cell_type": "code",
   "execution_count": 2,
   "metadata": {},
   "outputs": [],
   "source": [
    "centerline_df = pd.read_csv(\"Centerline_to_Zipcode.csv\")\n",
    "\n",
    "scooter_df = pd.read_csv(\"Scooter_Availability.csv\")\n",
    "\n",
    "centerline_zipcode = pd.DataFrame(centerline_df[['GBSID', 'ZIP5_L']])\n"
   ]
  },
  {
   "cell_type": "code",
   "execution_count": 3,
   "metadata": {},
   "outputs": [],
   "source": [
    "scooter_df['ClosestCenterlineID'] = scooter_df['ClosestCenterlineID'].astype(str)\n",
    "centerline_zipcode['GBSID'] = centerline_zipcode['GBSID'].astype(str)\n",
    "centerline_zipcode['ZIP5_L'] = centerline_zipcode['ZIP5_L'].astype(str)"
   ]
  },
  {
   "cell_type": "code",
   "execution_count": 4,
   "metadata": {},
   "outputs": [],
   "source": [
    "scooter_zipcode_df = pd.merge(scooter_df, centerline_zipcode, left_on='ClosestCenterlineID', right_on = 'GBSID', how=\"left\")"
   ]
  },
  {
   "cell_type": "code",
   "execution_count": 10,
   "metadata": {},
   "outputs": [
    {
     "data": {
      "text/html": [
       "<div>\n",
       "<style scoped>\n",
       "    .dataframe tbody tr th:only-of-type {\n",
       "        vertical-align: middle;\n",
       "    }\n",
       "\n",
       "    .dataframe tbody tr th {\n",
       "        vertical-align: top;\n",
       "    }\n",
       "\n",
       "    .dataframe thead th {\n",
       "        text-align: right;\n",
       "    }\n",
       "</style>\n",
       "<table border=\"1\" class=\"dataframe\">\n",
       "  <thead>\n",
       "    <tr style=\"text-align: right;\">\n",
       "      <th></th>\n",
       "      <th>PollTime</th>\n",
       "      <th>CompanyName</th>\n",
       "      <th>NumberAvailable</th>\n",
       "      <th>ClosestCenterlineID</th>\n",
       "      <th>ClosestCenterlineType</th>\n",
       "      <th>Neighborhood</th>\n",
       "      <th>ESRI_OID</th>\n",
       "      <th>GBSID</th>\n",
       "      <th>ZIP5_L</th>\n",
       "    </tr>\n",
       "  </thead>\n",
       "  <tbody>\n",
       "    <tr>\n",
       "      <td>0</td>\n",
       "      <td>2019-05-18T11:00:00.000Z</td>\n",
       "      <td>Lime</td>\n",
       "      <td>1</td>\n",
       "      <td>10919</td>\n",
       "      <td>street</td>\n",
       "      <td>Bottineau</td>\n",
       "      <td>2001</td>\n",
       "      <td>10919</td>\n",
       "      <td>55418</td>\n",
       "    </tr>\n",
       "    <tr>\n",
       "      <td>1</td>\n",
       "      <td>2019-05-18T11:00:00.000Z</td>\n",
       "      <td>Lime</td>\n",
       "      <td>2</td>\n",
       "      <td>11310</td>\n",
       "      <td>street</td>\n",
       "      <td>Holland</td>\n",
       "      <td>2002</td>\n",
       "      <td>11310</td>\n",
       "      <td>55418</td>\n",
       "    </tr>\n",
       "    <tr>\n",
       "      <td>2</td>\n",
       "      <td>2019-05-18T11:00:00.000Z</td>\n",
       "      <td>Lime</td>\n",
       "      <td>1</td>\n",
       "      <td>14883</td>\n",
       "      <td>street</td>\n",
       "      <td>Hawthorne</td>\n",
       "      <td>2003</td>\n",
       "      <td>14883</td>\n",
       "      <td>55411</td>\n",
       "    </tr>\n",
       "    <tr>\n",
       "      <td>3</td>\n",
       "      <td>2019-05-18T11:00:00.000Z</td>\n",
       "      <td>Lime</td>\n",
       "      <td>3</td>\n",
       "      <td>15822</td>\n",
       "      <td>street</td>\n",
       "      <td>Harrison</td>\n",
       "      <td>2004</td>\n",
       "      <td>15822</td>\n",
       "      <td>55405</td>\n",
       "    </tr>\n",
       "    <tr>\n",
       "      <td>4</td>\n",
       "      <td>2019-05-18T11:00:00.000Z</td>\n",
       "      <td>Lime</td>\n",
       "      <td>1</td>\n",
       "      <td>16236</td>\n",
       "      <td>street</td>\n",
       "      <td>Downtown West</td>\n",
       "      <td>2005</td>\n",
       "      <td>16236</td>\n",
       "      <td>55401</td>\n",
       "    </tr>\n",
       "  </tbody>\n",
       "</table>\n",
       "</div>"
      ],
      "text/plain": [
       "                   PollTime CompanyName  NumberAvailable ClosestCenterlineID  \\\n",
       "0  2019-05-18T11:00:00.000Z        Lime                1               10919   \n",
       "1  2019-05-18T11:00:00.000Z        Lime                2               11310   \n",
       "2  2019-05-18T11:00:00.000Z        Lime                1               14883   \n",
       "3  2019-05-18T11:00:00.000Z        Lime                3               15822   \n",
       "4  2019-05-18T11:00:00.000Z        Lime                1               16236   \n",
       "\n",
       "  ClosestCenterlineType   Neighborhood  ESRI_OID  GBSID ZIP5_L  \n",
       "0                street      Bottineau      2001  10919  55418  \n",
       "1                street        Holland      2002  11310  55418  \n",
       "2                street      Hawthorne      2003  14883  55411  \n",
       "3                street       Harrison      2004  15822  55405  \n",
       "4                street  Downtown West      2005  16236  55401  "
      ]
     },
     "execution_count": 10,
     "metadata": {},
     "output_type": "execute_result"
    }
   ],
   "source": [
    "scooter_zipcode_df.head()\n"
   ]
  },
  {
   "cell_type": "code",
   "execution_count": 6,
   "metadata": {},
   "outputs": [],
   "source": [
    "# Note to avoid any issues later, use encoding=\"utf-8\"\n",
    "scooter_zipcode_df.to_csv(\"scooter_with_zip.csv\", encoding=\"utf-8\", index=False)"
   ]
  },
  {
   "cell_type": "code",
   "execution_count": 8,
   "metadata": {},
   "outputs": [
    {
     "data": {
      "text/plain": [
       "array(['55418', '55411', '55405', '55401', '55408', '55414', '55403',\n",
       "       '55402', '55415', '55404', nan, '55412', '55454', '55406', '55413',\n",
       "       '55409', '55416', '55419', '55407', '55455', '55422', '55417',\n",
       "       '55410', '55430', '55487', '55114', '55450', '55421', '55423',\n",
       "       '55429'], dtype=object)"
      ]
     },
     "execution_count": 8,
     "metadata": {},
     "output_type": "execute_result"
    }
   ],
   "source": [
    "#Create list of zip codes for Census_API program\n",
    "zip_list = scooter_zipcode_df['ZIP5_L'].unique()\n",
    "\n"
   ]
  },
  {
   "cell_type": "code",
   "execution_count": null,
   "metadata": {},
   "outputs": [],
   "source": []
  },
  {
   "cell_type": "code",
   "execution_count": null,
   "metadata": {},
   "outputs": [],
   "source": []
  },
  {
   "cell_type": "code",
   "execution_count": null,
   "metadata": {},
   "outputs": [],
   "source": []
  },
  {
   "cell_type": "code",
   "execution_count": null,
   "metadata": {},
   "outputs": [],
   "source": []
  }
 ],
 "metadata": {
  "kernelspec": {
   "display_name": "Python 3",
   "language": "python",
   "name": "python3"
  },
  "language_info": {
   "codemirror_mode": {
    "name": "ipython",
    "version": 3
   },
   "file_extension": ".py",
   "mimetype": "text/x-python",
   "name": "python",
   "nbconvert_exporter": "python",
   "pygments_lexer": "ipython3",
   "version": "3.6.9"
  }
 },
 "nbformat": 4,
 "nbformat_minor": 2
}
