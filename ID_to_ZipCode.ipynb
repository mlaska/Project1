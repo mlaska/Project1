{
 "cells": [
  {
   "cell_type": "markdown",
   "metadata": {},
   "source": [
    "Creating function to read Scooter_Availability csv and Centerline ID csv and create a new dataframe\n",
    "of Scooter Availability which includes locations' zip codes"
   ]
  },
  {
   "cell_type": "code",
   "execution_count": 1,
   "metadata": {},
   "outputs": [],
   "source": [
    "# Dependencies\n",
    "import pandas as pd"
   ]
  },
  {
   "cell_type": "code",
   "execution_count": 2,
   "metadata": {},
   "outputs": [],
   "source": [
    "centerline_df = pd.read_csv(\"Centerline_to_Zipcode.csv\")\n",
    "\n",
    "scooter_df = pd.read_csv(\"Scooter_Availability.csv\")\n",
    "\n",
    "centerline_zipcode = pd.DataFrame(centerline_df[['GBSID', 'ZIP5_L']])\n"
   ]
  },
  {
   "cell_type": "code",
   "execution_count": 3,
   "metadata": {},
   "outputs": [],
   "source": [
    "scooter_df['ClosestCenterlineID'] = scooter_df['ClosestCenterlineID'].astype(str)\n",
    "centerline_zipcode['GBSID'] = centerline_zipcode['GBSID'].astype(str)\n",
    "centerline_zipcode['ZIP5_L'] = centerline_zipcode['ZIP5_L'].astype(str)"
   ]
  },
  {
   "cell_type": "code",
   "execution_count": 4,
   "metadata": {},
   "outputs": [],
   "source": [
    "scooter_zipcode_df = pd.merge(scooter_df, centerline_zipcode, left_on='ClosestCenterlineID', right_on = 'GBSID', how=\"left\")"
   ]
  },
  {
   "cell_type": "code",
   "execution_count": 5,
   "metadata": {},
   "outputs": [
    {
     "data": {
      "text/html": [
       "<div>\n",
       "<style scoped>\n",
       "    .dataframe tbody tr th:only-of-type {\n",
       "        vertical-align: middle;\n",
       "    }\n",
       "\n",
       "    .dataframe tbody tr th {\n",
       "        vertical-align: top;\n",
       "    }\n",
       "\n",
       "    .dataframe thead th {\n",
       "        text-align: right;\n",
       "    }\n",
       "</style>\n",
       "<table border=\"1\" class=\"dataframe\">\n",
       "  <thead>\n",
       "    <tr style=\"text-align: right;\">\n",
       "      <th></th>\n",
       "      <th>PollTime</th>\n",
       "      <th>CompanyName</th>\n",
       "      <th>NumberAvailable</th>\n",
       "      <th>ClosestCenterlineID</th>\n",
       "      <th>ClosestCenterlineType</th>\n",
       "      <th>Neighborhood</th>\n",
       "      <th>ESRI_OID</th>\n",
       "      <th>GBSID</th>\n",
       "      <th>ZIP5_L</th>\n",
       "    </tr>\n",
       "  </thead>\n",
       "  <tbody>\n",
       "    <tr>\n",
       "      <td>381421</td>\n",
       "      <td>2019-09-25T23:00:00.000Z</td>\n",
       "      <td>Lime</td>\n",
       "      <td>2</td>\n",
       "      <td>17812</td>\n",
       "      <td>street</td>\n",
       "      <td>Marcy Holmes</td>\n",
       "      <td>371996</td>\n",
       "      <td>17812</td>\n",
       "      <td>55414</td>\n",
       "    </tr>\n",
       "    <tr>\n",
       "      <td>381422</td>\n",
       "      <td>2019-09-25T23:00:00.000Z</td>\n",
       "      <td>Lime</td>\n",
       "      <td>1</td>\n",
       "      <td>17813</td>\n",
       "      <td>street</td>\n",
       "      <td>Marcy Holmes</td>\n",
       "      <td>371997</td>\n",
       "      <td>17813</td>\n",
       "      <td>55414</td>\n",
       "    </tr>\n",
       "    <tr>\n",
       "      <td>381423</td>\n",
       "      <td>2019-09-25T23:00:00.000Z</td>\n",
       "      <td>Lime</td>\n",
       "      <td>1</td>\n",
       "      <td>17977</td>\n",
       "      <td>street</td>\n",
       "      <td>Marcy Holmes</td>\n",
       "      <td>371998</td>\n",
       "      <td>17977</td>\n",
       "      <td>55414</td>\n",
       "    </tr>\n",
       "    <tr>\n",
       "      <td>381424</td>\n",
       "      <td>2019-09-25T23:00:00.000Z</td>\n",
       "      <td>Lime</td>\n",
       "      <td>1</td>\n",
       "      <td>17997</td>\n",
       "      <td>street</td>\n",
       "      <td>Holland</td>\n",
       "      <td>371999</td>\n",
       "      <td>17997</td>\n",
       "      <td>55418</td>\n",
       "    </tr>\n",
       "    <tr>\n",
       "      <td>381425</td>\n",
       "      <td>2019-09-25T23:00:00.000Z</td>\n",
       "      <td>Lime</td>\n",
       "      <td>1</td>\n",
       "      <td>18127</td>\n",
       "      <td>street</td>\n",
       "      <td>Webber - Camden</td>\n",
       "      <td>372000</td>\n",
       "      <td>18127</td>\n",
       "      <td>55412</td>\n",
       "    </tr>\n",
       "  </tbody>\n",
       "</table>\n",
       "</div>"
      ],
      "text/plain": [
       "                        PollTime CompanyName  NumberAvailable  \\\n",
       "381421  2019-09-25T23:00:00.000Z        Lime                2   \n",
       "381422  2019-09-25T23:00:00.000Z        Lime                1   \n",
       "381423  2019-09-25T23:00:00.000Z        Lime                1   \n",
       "381424  2019-09-25T23:00:00.000Z        Lime                1   \n",
       "381425  2019-09-25T23:00:00.000Z        Lime                1   \n",
       "\n",
       "       ClosestCenterlineID ClosestCenterlineType     Neighborhood  ESRI_OID  \\\n",
       "381421               17812                street     Marcy Holmes    371996   \n",
       "381422               17813                street     Marcy Holmes    371997   \n",
       "381423               17977                street     Marcy Holmes    371998   \n",
       "381424               17997                street          Holland    371999   \n",
       "381425               18127                street  Webber - Camden    372000   \n",
       "\n",
       "        GBSID ZIP5_L  \n",
       "381421  17812  55414  \n",
       "381422  17813  55414  \n",
       "381423  17977  55414  \n",
       "381424  17997  55418  \n",
       "381425  18127  55412  "
      ]
     },
     "execution_count": 5,
     "metadata": {},
     "output_type": "execute_result"
    }
   ],
   "source": [
    "scooter_zipcode_df.tail()\n"
   ]
  },
  {
   "cell_type": "code",
   "execution_count": 6,
   "metadata": {},
   "outputs": [],
   "source": [
    "# Note to avoid any issues later, use encoding=\"utf-8\"\n",
    "scooter_zipcode_df.to_csv(\"scooter_with_zip.csv\", encoding=\"utf-8\", index=False)"
   ]
  },
  {
   "cell_type": "code",
   "execution_count": null,
   "metadata": {},
   "outputs": [],
   "source": [
    "\n"
   ]
  },
  {
   "cell_type": "code",
   "execution_count": null,
   "metadata": {},
   "outputs": [],
   "source": []
  },
  {
   "cell_type": "code",
   "execution_count": null,
   "metadata": {},
   "outputs": [],
   "source": []
  },
  {
   "cell_type": "code",
   "execution_count": null,
   "metadata": {},
   "outputs": [],
   "source": []
  },
  {
   "cell_type": "code",
   "execution_count": null,
   "metadata": {},
   "outputs": [],
   "source": []
  }
 ],
 "metadata": {
  "kernelspec": {
   "display_name": "Python 3",
   "language": "python",
   "name": "python3"
  },
  "language_info": {
   "codemirror_mode": {
    "name": "ipython",
    "version": 3
   },
   "file_extension": ".py",
   "mimetype": "text/x-python",
   "name": "python",
   "nbconvert_exporter": "python",
   "pygments_lexer": "ipython3",
   "version": "3.6.9"
  }
 },
 "nbformat": 4,
 "nbformat_minor": 2
}
